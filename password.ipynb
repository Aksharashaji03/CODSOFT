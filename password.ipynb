{
 "cells": [
  {
   "cell_type": "code",
   "execution_count": 1,
   "metadata": {},
   "outputs": [],
   "source": [
    "import random\n",
    "import string"
   ]
  },
  {
   "cell_type": "code",
   "execution_count": 2,
   "metadata": {},
   "outputs": [
    {
     "name": "stdout",
     "output_type": "stream",
     "text": [
      "Password Generator\n",
      "Generated Password: esFftEg7\n"
     ]
    }
   ],
   "source": [
    "def generate_password(length, use_uppercase=True, use_digits=True, use_special=True):\n",
    "    characters = string.ascii_lowercase\n",
    "    if use_uppercase:\n",
    "        characters += string.ascii_uppercase\n",
    "    if use_digits:\n",
    "        characters += string.digits\n",
    "    if use_special:\n",
    "        characters += string.punctuation\n",
    "\n",
    "    password = ''.join(random.choice(characters) for _ in range(length))\n",
    "    return password\n",
    "\n",
    "def password_generator():\n",
    "    print(\"Password Generator\")\n",
    "    \n",
    "    try:\n",
    "        length = int(input(\"Enter the desired length of the password: \"))\n",
    "    except ValueError:\n",
    "        print(\"Invalid input! Please enter a numeric value for the length.\")\n",
    "        return\n",
    "    \n",
    "    use_uppercase = input(\"Include uppercase letters? (y/n): \").lower() == 'y'\n",
    "    use_digits = input(\"Include digits? (y/n): \").lower() == 'y'\n",
    "    use_special = input(\"Include special characters? (y/n): \").lower() == 'y'\n",
    "\n",
    "    if length < 1:\n",
    "        print(\"Password length should be at least 1.\")\n",
    "        return\n",
    "    \n",
    "    password = generate_password(length, use_uppercase, use_digits, use_special)\n",
    "    print(f\"Generated Password: {password}\")\n",
    "\n",
    "if __name__ == \"__main__\":\n",
    "    password_generator()\n"
   ]
  },
  {
   "cell_type": "code",
   "execution_count": null,
   "metadata": {},
   "outputs": [],
   "source": []
  }
 ],
 "metadata": {
  "kernelspec": {
   "display_name": "Python 3",
   "language": "python",
   "name": "python3"
  },
  "language_info": {
   "codemirror_mode": {
    "name": "ipython",
    "version": 3
   },
   "file_extension": ".py",
   "mimetype": "text/x-python",
   "name": "python",
   "nbconvert_exporter": "python",
   "pygments_lexer": "ipython3",
   "version": "3.11.1"
  }
 },
 "nbformat": 4,
 "nbformat_minor": 2
}
