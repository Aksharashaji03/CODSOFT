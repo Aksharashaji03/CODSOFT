{
 "cells": [
  {
   "cell_type": "code",
   "execution_count": 2,
   "metadata": {},
   "outputs": [],
   "source": [
    "import cmd"
   ]
  },
  {
   "cell_type": "code",
   "execution_count": 3,
   "metadata": {},
   "outputs": [
    {
     "name": "stdout",
     "output_type": "stream",
     "text": [
      "Welcome to the To-Do List application.\n",
      "Type help or ? to list commands.\n",
      "Commands:\n",
      "  add task_description  - Add a new task\n",
      "  list                  - List all tasks\n",
      "  remove task_number    - Remove a task by its number\n",
      "  update task_number new_description  - Update a task by its number\n",
      "  exit                  - Exit the application\n",
      "\n",
      "Task added: homework\n",
      "Task added: cleaning\n",
      "Task added: assignments\n",
      "1. homework\n",
      "2. cleaning\n",
      "3. assignments\n",
      "Task removed: cleaning\n",
      "1. homework\n",
      "2. assignments\n",
      "Task updated to: Maths Homework\n",
      "Task updated to: maths homework\n",
      "1. maths homework\n",
      "2. assignments\n",
      "Thank you for using the To-Do List application.\n"
     ]
    }
   ],
   "source": [
    "class TodoApp(cmd.Cmd):\n",
    "    intro = '''Welcome to the To-Do List application.\n",
    "Type help or ? to list commands.\n",
    "Commands:\n",
    "  add task_description  - Add a new task\n",
    "  list                  - List all tasks\n",
    "  remove task_number    - Remove a task by its number\n",
    "  update task_number new_description  - Update a task by its number\n",
    "  exit                  - Exit the application\n",
    "'''\n",
    "    prompt = '(todo) '\n",
    "    file = None\n",
    "\n",
    "    def __init__(self):\n",
    "        super().__init__()\n",
    "        self.tasks = []\n",
    "\n",
    "    def do_add(self, arg):\n",
    "        'Add a new task: add task_description'\n",
    "        self.tasks.append(arg)\n",
    "        print(f'Task added: {arg}')\n",
    "\n",
    "    def do_list(self, arg):\n",
    "        'List all tasks'\n",
    "        if not self.tasks:\n",
    "            print('No tasks in the list.')\n",
    "        else:\n",
    "            for i, task in enumerate(self.tasks, 1):\n",
    "                print(f'{i}. {task}')\n",
    "\n",
    "    def do_remove(self, arg):\n",
    "        'Remove a task by its number: remove task_number'\n",
    "        try:\n",
    "            task_num = int(arg)\n",
    "            if 1 <= task_num <= len(self.tasks):\n",
    "                removed_task = self.tasks.pop(task_num - 1)\n",
    "                print(f'Task removed: {removed_task}')\n",
    "            else:\n",
    "                print('Invalid task number.')\n",
    "        except ValueError:\n",
    "            print('Please enter a valid task number.')\n",
    "\n",
    "    def do_update(self, arg):\n",
    "        'Update a task by its number: update task_number new_description'\n",
    "        try:\n",
    "            task_num, new_desc = arg.split(maxsplit=1)\n",
    "            task_num = int(task_num)\n",
    "            if 1 <= task_num <= len(self.tasks):\n",
    "                self.tasks[task_num - 1] = new_desc\n",
    "                print(f'Task updated to: {new_desc}')\n",
    "            else:\n",
    "                print('Invalid task number.')\n",
    "        except ValueError:\n",
    "            print('Please provide a valid task number and new description.')\n",
    "\n",
    "    def do_exit(self, arg):\n",
    "        'Exit the application'\n",
    "        print('Thank you for using the To-Do List application.')\n",
    "        return True\n",
    "\n",
    "if __name__ == '__main__':\n",
    "    TodoApp().cmdloop()\n"
   ]
  },
  {
   "cell_type": "code",
   "execution_count": null,
   "metadata": {},
   "outputs": [],
   "source": []
  }
 ],
 "metadata": {
  "kernelspec": {
   "display_name": "Python 3",
   "language": "python",
   "name": "python3"
  },
  "language_info": {
   "codemirror_mode": {
    "name": "ipython",
    "version": 3
   },
   "file_extension": ".py",
   "mimetype": "text/x-python",
   "name": "python",
   "nbconvert_exporter": "python",
   "pygments_lexer": "ipython3",
   "version": "3.11.1"
  }
 },
 "nbformat": 4,
 "nbformat_minor": 2
}
